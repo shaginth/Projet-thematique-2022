{
  "nbformat": 4,
  "nbformat_minor": 0,
  "metadata": {
    "colab": {
      "name": "Test_compteur_cellule.ipynb",
      "provenance": [],
      "authorship_tag": "ABX9TyO8wyJw/lhegBwQGLsWcA+J",
      "include_colab_link": true
    },
    "kernelspec": {
      "name": "python3",
      "display_name": "Python 3"
    },
    "language_info": {
      "name": "python"
    }
  },
  "cells": [
    {
      "cell_type": "markdown",
      "metadata": {
        "id": "view-in-github",
        "colab_type": "text"
      },
      "source": [
        "<a href=\"https://colab.research.google.com/github/shaginth/Projet-thematique-2022/blob/main/Test_compteur_cellule.ipynb\" target=\"_parent\"><img src=\"https://colab.research.google.com/assets/colab-badge.svg\" alt=\"Open In Colab\"/></a>"
      ]
    },
    {
      "cell_type": "code",
      "execution_count": null,
      "metadata": {
        "id": "jQdKOj1mN0YS"
      },
      "outputs": [],
      "source": [
        ""
      ]
    }
  ]
}